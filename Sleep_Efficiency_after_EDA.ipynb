{
  "cells": [
    {
      "cell_type": "code",
      "execution_count": 245,
      "metadata": {
        "id": "jYJC6ddpxDOG"
      },
      "outputs": [],
      "source": [
        "import math\n",
        "import scipy.stats as stats\n",
        "from sklearn.preprocessing import MinMaxScaler\n",
        "from google.colab import files\n",
        "import numpy as np\n",
        "import pandas as pd\n",
        "from sklearn.tree import DecisionTreeClassifier, plot_tree\n",
        "from sklearn.model_selection import train_test_split, GridSearchCV\n",
        "from sklearn.metrics import accuracy_score, confusion_matrix\n",
        "import matplotlib.pyplot as plt\n",
        "from scipy.stats import entropy\n",
        "from sklearn.metrics import precision_score\n",
        "from sklearn.metrics import recall_score\n",
        "from sklearn.metrics import f1_score \n",
        "from sklearn.metrics import confusion_matrix, roc_curve\n",
        "from sklearn.preprocessing import StandardScaler\n",
        "from sklearn.preprocessing import Normalizer\n",
        "from sklearn.ensemble import RandomForestClassifier\n",
        "from sklearn.tree import export_graphviz\n",
        "import pydotplus\n",
        "from IPython.display import Image\n",
        "from sklearn.naive_bayes import GaussianNB\n",
        "from sklearn.metrics import classification_report, confusion_matrix\n",
        "import random\n",
        "import math\n",
        "from sklearn.neighbors import KNeighborsClassifier\n",
        "from sklearn.cluster import KMeans\n",
        "from joblib import dump, load\n",
        "import os\n",
        "import seaborn as sns\n",
        "import graphviz\n",
        "from sklearn.manifold import TSNE\n"
      ]
    },
    {
      "attachments": {},
      "cell_type": "markdown",
      "metadata": {
        "id": "RpTB0faExNHy"
      },
      "source": [
        "Read the data from the \"Sleep_Efficiency after EDA.csv\" file\n"
      ]
    },
    {
      "cell_type": "code",
      "execution_count": 246,
      "metadata": {
        "id": "D4KtAMWExPtq"
      },
      "outputs": [],
      "source": [
        "sleepData = pd.read_csv(\"/content/sample_data/Sleep Efficiency after EDA.csv\")"
      ]
    },
    {
      "attachments": {},
      "cell_type": "markdown",
      "metadata": {
        "id": "1uZ-QqG-zbVM"
      },
      "source": [
        "Drop duplicates if any"
      ]
    },
    {
      "cell_type": "code",
      "execution_count": 247,
      "metadata": {
        "id": "P9HlyMR6zWMW"
      },
      "outputs": [],
      "source": [
        "sleepData.drop_duplicates(inplace=True)\n",
        "sleepData=sleepData.drop(\"ID\", axis=1)\n",
        "\n",
        "np.random.seed(42)"
      ]
    },
    {
      "attachments": {},
      "cell_type": "markdown",
      "metadata": {
        "id": "y_Q02ZVvzmBD"
      },
      "source": [
        "Data cleaning"
      ]
    },
    {
      "cell_type": "code",
      "execution_count": 248,
      "metadata": {
        "id": "Ai3DS3nJzjz7"
      },
      "outputs": [],
      "source": [
        "# Function to clean the time part from the \"Bedtime\" and \"Wakeup time\" columns\n",
        "def cleanSleepTime(columnName):\n",
        "    sleepData[columnName] = pd.to_datetime(sleepData[columnName], format='%Y-%m-%d %H:%M:%S').dt.time.apply(lambda x: x.hour * 3600 + x.minute * 60 + x.second)\n",
        "\n",
        "    # sleepData[columnName] = sleep_time  # Update the column in the DataFrame\n",
        "\n",
        "# Function to fill missing numeric values with the average of non-missing values\n",
        "def fillNumericAvg(data):\n",
        "    if not isinstance(data, pd.DataFrame):  # Check if input is a DataFrame\n",
        "        raise TypeError(\"Input data must be a pandas DataFrame\")\n",
        "    numeric_cols = data.select_dtypes(include=np.number).columns.tolist()  # Get numeric columns\n",
        "    data[numeric_cols] = data[numeric_cols].fillna(data[numeric_cols].mean())  # Fill missing values with means\n",
        "\n",
        "# Function to fill missing values in a column with the mode\n",
        "def fillColumnMode(data, column):\n",
        "    col_mode = data[column].mode()[0]  # Compute the mode of the column (ignoring missing values)\n",
        "    data[column].fillna(col_mode, inplace=True)  # Fill missing values with the mode\n",
        "\n",
        "def preprocessData(data):\n",
        "    # Clean the \"Bedtime\" and \"Wakeup time\" columns\n",
        "    cleanSleepTime(\"Bedtime\")\n",
        "    cleanSleepTime(\"Wakeup time\")\n",
        "\n",
        "    # Fill missing numeric values in the DataFrame with the average\n",
        "    fillNumericAvg(data)\n",
        "    \n",
        "    # Fill missing values in the \"Smoking status\" column with the mode\n",
        "    fillColumnMode(data, \"Smoking status\")\n",
        "    \n",
        "    # Replace \"Yes\" and \"No\" values in the \"Smoking status\" column with 1 and 0, respectively\n",
        "    data[\"Smoking status\"] = data[\"Smoking status\"].replace({\"Yes\": 1, \"No\": 0})\n",
        "\n",
        "preprocessData(sleepData)\n",
        "\n",
        "# sleepData.to_csv('Sleep efficiency after cleaning.csv', index=False,encoding='utf-8-sig')\n",
        "# files.download('Sleep efficiency after cleaning.csv')"
      ]
    },
    {
      "attachments": {},
      "cell_type": "markdown",
      "metadata": {
        "id": "6w4HVZF7MSXV"
      },
      "source": [
        "K-means"
      ]
    },
    {
      "cell_type": "code",
      "execution_count": 249,
      "metadata": {
        "colab": {
          "base_uri": "https://localhost:8080/",
          "height": 574
        },
        "id": "tD5UE7KfMWKS",
        "outputId": "5ab68468-25db-493a-dd20-8b0e604aa90e"
      },
      "outputs": [
        {
          "name": "stdout",
          "output_type": "stream",
          "text": [
            "cluster  Gender\n",
            "0        Female    116\n",
            "         Male      125\n",
            "1        Female    108\n",
            "         Male      103\n",
            "dtype: int64\n"
          ]
        },
        {
          "data": {
            "image/png": "[encoded data removed]",
            "text/plain": [
              "<Figure size 640x480 with 1 Axes>"
            ]
          },
          "metadata": {},
          "output_type": "display_data"
        }
      ],
      "source": [
        "def K_means():\n",
        "    X_Kmeans = sleepData.drop('Gender', axis=1)\n",
        "    k = 2  # Number of clusters\n",
        "    # Instantiate the KMeans class\n",
        "    kmeans = KMeans(n_clusters=k, random_state=42, n_init=10)\n",
        "    # Fit the k-means model to the data\n",
        "    kmeans.fit(X_Kmeans)\n",
        "    # Get the predicted cluster labels\n",
        "    cluster_labels = kmeans.labels_\n",
        "\n",
        "    # Add the cluster labels to the original dataset\n",
        "    sleepData['cluster'] = cluster_labels\n",
        "\n",
        "    # Analyze the distribution of gender within each cluster\n",
        "    gender_distribution = sleepData.groupby(['cluster', 'Gender']).size()\n",
        "    print(gender_distribution)\n",
        "\n",
        "    # Create a scatter plot of the data points with color-coded clusters\n",
        "\n",
        "    # Perform dimensionality reduction using t-SNE\n",
        "    tsne = TSNE(n_components=2, random_state=42)\n",
        "    X_tsne = tsne.fit_transform(X_Kmeans)\n",
        "\n",
        "    # Create a scatter plot of the data points with color-coded clusters\n",
        "    plt.scatter(X_tsne[:, 0], X_tsne[:, 1], c=cluster_labels)\n",
        "    plt.xlabel('t-SNE Dimension 1')\n",
        "    plt.ylabel('t-SNE Dimension 2')\n",
        "    plt.title('K-means Clustering Results')\n",
        "    plt.show()\n",
        "\n",
        "K_means()"
      ]
    },
    {
      "attachments": {},
      "cell_type": "markdown",
      "metadata": {
        "id": "fN4OZrs3OiID"
      },
      "source": [
        "Calculation of entropy on the whole column"
      ]
    },
    {
      "cell_type": "code",
      "execution_count": 250,
      "metadata": {
        "colab": {
          "base_uri": "https://localhost:8080/"
        },
        "id": "ZAF8ocapfhlM",
        "outputId": "1431c405-ec57-474e-aa71-6e83ab133e7c"
      },
      "outputs": [
        {
          "name": "stdout",
          "output_type": "stream",
          "text": [
            "Entropy of column 'Age': 5.503109912730437\n",
            "Entropy of column 'Gender': 0.9999435071707974\n",
            "Entropy of column 'Bedtime': 3.3849444789754433\n",
            "Entropy of column 'Wakeup time': 3.8911427992676173\n",
            "Entropy of column 'Sleep duration': 2.4954651159529644\n",
            "Entropy of column 'Sleep efficiency': 5.341295480237125\n",
            "Entropy of column 'REM sleep percentage': 3.2710844611484546\n",
            "Entropy of column 'Deep sleep percentage': 4.1973598479298655\n",
            "Entropy of column 'Light sleep percentage': 4.153274012116889\n",
            "Entropy of column 'Awakenings': 2.370462207714785\n",
            "Entropy of column 'Caffeine consumption': 1.949680225532007\n",
            "Entropy of column 'Alcohol consumption': 2.1166345381684173\n",
            "Entropy of column 'Smoking status': 0.9254945678029334\n",
            "Entropy of column 'Exercise frequency': 2.363191154602921\n",
            "Entropy of column 'cluster': 0.9968199826615665\n"
          ]
        }
      ],
      "source": [
        "def calculate_entropy(data):\n",
        "    entropy_values = {}\n",
        "    num_samples = len(data)\n",
        "\n",
        "    for column in data.columns:\n",
        "        values, counts = np.unique(data[column].dropna(), return_counts=True)\n",
        "        probabilities = counts / num_samples\n",
        "        entropy = -np.sum(probabilities * np.log2(probabilities))\n",
        "        entropy_values[column] = entropy\n",
        "\n",
        "    return entropy_values\n",
        "\n",
        "entropy_values = calculate_entropy(sleepData)\n",
        "for column, entropy in entropy_values.items():\n",
        "    print(f\"Entropy of column '{column}': {entropy}\")"
      ]
    },
    {
      "attachments": {},
      "cell_type": "markdown",
      "metadata": {
        "id": "cTxz-NFMY-rw"
      },
      "source": [
        "*Features* selection-\n",
        "The code below corresponds to the data after selecting columns and analyzing all the data without selecting columns.\n",
        "To run the normalisations and all the models without selecting columns, put the code that appears below in the documents"
      ]
    },
    {
      "cell_type": "code",
      "execution_count": 251,
      "metadata": {
        "id": "s2hDDZ_MY-Um"
      },
      "outputs": [],
      "source": [
        "# selectedColumns=['Smoking status', 'Caffeine consumption', 'Alcohol consumption','Exercise frequency', 'Sleep duration', 'Awakenings','Gender']\n",
        "# sleepData=sleepData.loc[:,selectedColumns]"
      ]
    },
    {
      "attachments": {},
      "cell_type": "markdown",
      "metadata": {
        "id": "B0CtPvNo3-jj"
      },
      "source": [
        "Split the data into training and testing sets\n"
      ]
    },
    {
      "cell_type": "code",
      "execution_count": 252,
      "metadata": {
        "id": "73REhHWH3_Xo"
      },
      "outputs": [],
      "source": [
        "X = sleepData.drop(\"Gender\", axis=1)\n",
        "y = sleepData[\"Gender\"]\n",
        "X_train, X_test, y_train, y_test = train_test_split(X, y, test_size=0.2, random_state=42)"
      ]
    },
    {
      "attachments": {},
      "cell_type": "markdown",
      "metadata": {
        "id": "Q3Mfh18X4Gt8"
      },
      "source": [
        "Apply different normalization techniques to the data\n",
        "\n",
        "\n",
        "\n"
      ]
    },
    {
      "cell_type": "code",
      "execution_count": 253,
      "metadata": {
        "id": "rW-25S3k4Hdl"
      },
      "outputs": [],
      "source": [
        "def applyNormalization(data, scaler):\n",
        "    numeric_cols = data.select_dtypes(include=np.number).columns.tolist()\n",
        "    data_normalized = data.copy()\n",
        "    data_normalized[numeric_cols] = scaler.fit_transform(data_normalized[numeric_cols])\n",
        "    return data_normalized"
      ]
    },
    {
      "attachments": {},
      "cell_type": "markdown",
      "metadata": {
        "id": "c6JHrQY1YLFX"
      },
      "source": [
        "Apply Decimal scaling normalization techniq to the data"
      ]
    },
    {
      "cell_type": "code",
      "execution_count": 254,
      "metadata": {
        "id": "JHBYz3f4Qttt"
      },
      "outputs": [],
      "source": [
        "def applyDecimalScaling(data):\n",
        "    normalized_data = data.copy()\n",
        "    for column in normalized_data.columns:\n",
        "        max_value = normalized_data[column].max()\n",
        "        num_digits = len(str(int(max_value)))\n",
        "        normalized_data[column] = normalized_data[column] / (10 ** num_digits)\n",
        "    return normalized_data"
      ]
    },
    {
      "attachments": {},
      "cell_type": "markdown",
      "metadata": {
        "id": "MOe0t3F7Yfv-"
      },
      "source": [
        "To smooth data by Bin boundaries, Bin means depth"
      ]
    },
    {
      "cell_type": "code",
      "execution_count": 255,
      "metadata": {
        "id": "zBZWoZ3iAZte"
      },
      "outputs": [],
      "source": [
        "def applyBinBoundaries(data, column, num_bins):\n",
        "    normalized_data = data.copy()\n",
        "    \n",
        "    # Sort the data based on the specified column\n",
        "    sorted_data = normalized_data.sort_values(by=column)\n",
        "\n",
        "    # Assign bin boundaries based on equal intervals\n",
        "    bin_boundaries = pd.qcut(sorted_data[column], num_bins, labels=False, duplicates=\"drop\")\n",
        "    normalized_data[column] = bin_boundaries\n",
        "    \n",
        "    # Assign values to the closest boundary within each bin\n",
        "    for bin_label in range(num_bins):\n",
        "        bin_indices = np.where(bin_boundaries == bin_label)[0]\n",
        "        min_value = sorted_data[column].iloc[bin_indices].min()\n",
        "        max_value = sorted_data[column].iloc[bin_indices].max()\n",
        "        \n",
        "        # Assign values to the closest boundary within the bin\n",
        "        normalized_data.loc[bin_indices, column] = sorted_data.loc[bin_indices, column].apply(\n",
        "            lambda x: min_value if abs(x - min_value) < abs(x - max_value) else max_value\n",
        "        )\n",
        "    return normalized_data\n",
        "\n",
        "def applyBinMeans_depth(data, column, num_bins):\n",
        "    normalized_data = data.copy()\n",
        "\n",
        "    # Sort the data based on the specified column\n",
        "    sorted_data = normalized_data.sort_values(by=column)\n",
        "\n",
        "    # Assign bin boundaries based on equal intervals\n",
        "    bin_boundaries = pd.qcut(sorted_data[column], num_bins, labels=False, duplicates=\"drop\")\n",
        "    normalized_data[column] = bin_boundaries\n",
        "\n",
        "    # Assign values to the average within each bin\n",
        "    for bin_label in range(num_bins):\n",
        "        bin_indices = np.where(bin_boundaries == bin_label)[0]\n",
        "        bin_values = sorted_data[column].iloc[bin_indices]\n",
        "        avg_value = np.mean(bin_values)\n",
        "\n",
        "        normalized_data.loc[bin_indices, column] = avg_value\n",
        "\n",
        "    return normalized_data\n"
      ]
    },
    {
      "attachments": {},
      "cell_type": "markdown",
      "metadata": {
        "id": "nQw0DGdH4ONF"
      },
      "source": [
        "Train and evaluate a classifier \n",
        "and printing evaluation metrics"
      ]
    },
    {
      "cell_type": "code",
      "execution_count": 256,
      "metadata": {
        "id": "TP03Wblg4Oos"
      },
      "outputs": [],
      "source": [
        "def trainAndEvaluateClassifier(classifier, X_train, y_train, X_test, y_test):\n",
        "    classifier.fit(X_train, y_train)\n",
        "    predictions = classifier.predict(X_test)\n",
        "\n",
        "    y_pred = classifier.predict(X_test)\n",
        "    accuracy = accuracy_score(y_test, y_pred)\n",
        "    precision = precision_score(y_test, y_pred, average='weighted')\n",
        "    recall = recall_score(y_test, y_pred, average='weighted')\n",
        "    f1 = f1_score(y_test, y_pred, average='weighted')\n",
        "    confusion_mat = confusion_matrix(y_test, y_pred)\n",
        "    \n",
        "    print(\"Accuracy:\", accuracy)\n",
        "    print(\"Precision:\", precision)\n",
        "    print(\"Recall:\", recall)\n",
        "    print(\"F1-Score:\", f1)\n",
        "    print(\"Confusion Matrix:\")\n",
        "    print(confusion_mat)\n",
        "    print(\"\")\n",
        "    \n",
        "    return classifier\n"
      ]
    },
    {
      "attachments": {},
      "cell_type": "markdown",
      "metadata": {
        "id": "o7OjAWbTJBU2"
      },
      "source": [
        "Train and evaluate the Naive Bayes classifier\n",
        "and printing evaluation metrics"
      ]
    },
    {
      "cell_type": "code",
      "execution_count": 257,
      "metadata": {
        "id": "5KS6BLeT4vU4"
      },
      "outputs": [],
      "source": [
        "def train_and_evaluate_naive_bayes(X_train, y_train, X_test, y_test):\n",
        "    gnb = GaussianNB()\n",
        "    gnb.fit(X_train, y_train)\n",
        "    y_pred = gnb.predict(X_test)\n",
        "    accuracy = accuracy_score(y_test, y_pred)\n",
        "    precision = precision_score(y_test, y_pred, average='weighted')\n",
        "    recall = recall_score(y_test, y_pred, average='weighted')\n",
        "    f1 = f1_score(y_test, y_pred, average='weighted')\n",
        "    confusion_mat = confusion_matrix(y_test, y_pred)\n",
        "\n",
        "    print(\"Accuracy:\", accuracy)\n",
        "    print(\"Precision:\", precision)\n",
        "    print(\"Recall:\", recall)\n",
        "    print(\"F1-Score:\", f1)\n",
        "    print(\"Confusion Matrix:\")\n",
        "    print(confusion_mat)\n",
        "    print(\"\")\n",
        "    \n",
        "    return accuracy, precision, recall, f1, confusion_mat"
      ]
    },
    {
      "attachments": {},
      "cell_type": "markdown",
      "metadata": {
        "id": "ZbouHccU4UqH"
      },
      "source": [
        "Define the normalization techniques and corresponding scalers\n"
      ]
    },
    {
      "cell_type": "code",
      "execution_count": 258,
      "metadata": {
        "id": "LQGZkOmn4Uz_"
      },
      "outputs": [],
      "source": [
        "normalization_techniques = [\n",
        "    (\"Min-Max Scaling\", MinMaxScaler()),\n",
        "    (\"Z-Score Scaling\", StandardScaler()),\n",
        "    (\"Decimal Scaling\", applyDecimalScaling),\n",
        "    (\"Unit Vector Normalization\", Normalizer()),\n",
        "    (\"Bin boundaries\",applyBinBoundaries)\n",
        "]"
      ]
    },
    {
      "attachments": {},
      "cell_type": "markdown",
      "metadata": {
        "id": "NNnUQhjt4Zsg"
      },
      "source": [
        "Train and evaluate classifiers for each normalization technique (all the data)"
      ]
    },
    {
      "cell_type": "code",
      "execution_count": 259,
      "metadata": {
        "colab": {
          "base_uri": "https://localhost:8080/"
        },
        "id": "0rma_bc24cdU",
        "outputId": "33c13bff-fadf-44d0-b021-d33a9706ef8f"
      },
      "outputs": [
        {
          "name": "stdout",
          "output_type": "stream",
          "text": [
            "Min-Max Scaling - Decision Tree:\n",
            "Accuracy: 0.8571428571428571\n",
            "Precision: 0.8568591289544616\n",
            "Recall: 0.8571428571428571\n",
            "F1-Score: 0.8568954854669142\n",
            "Confusion Matrix:\n",
            "[[32  7]\n",
            " [ 6 46]]\n",
            "\n",
            "Min-Max Scaling - Random Forest:\n",
            "Accuracy: 0.945054945054945\n",
            "Precision: 0.9465367965367965\n",
            "Recall: 0.945054945054945\n",
            "F1-Score: 0.9447263017356474\n",
            "Confusion Matrix:\n",
            "[[35  4]\n",
            " [ 1 51]]\n",
            "\n",
            "Min-Max Scaling - Naive Bayes:\n",
            "Accuracy: 0.8241758241758241\n",
            "Precision: 0.8236808236808237\n",
            "Recall: 0.8241758241758241\n",
            "F1-Score: 0.8235210668179884\n",
            "Confusion Matrix:\n",
            "[[30  9]\n",
            " [ 7 45]]\n",
            "\n",
            "Min-Max Scaling - KNN (k = 5):\n",
            "Accuracy: 0.8681318681318682\n",
            "Precision: 0.8693877551020408\n",
            "Recall: 0.8681318681318682\n",
            "F1-Score: 0.867009867009867\n",
            "Confusion Matrix:\n",
            "[[31  8]\n",
            " [ 4 48]]\n",
            "\n",
            "Min-Max Scaling - KNN(k = 3):\n",
            "Accuracy: 0.8021978021978022\n",
            "Precision: 0.8070660522273425\n",
            "Recall: 0.8021978021978022\n",
            "F1-Score: 0.7979591836734694\n",
            "Confusion Matrix:\n",
            "[[26 13]\n",
            " [ 5 47]]\n",
            "\n",
            "Min-Max Scaling - KNN(k = 7):\n",
            "Accuracy: 0.8571428571428571\n",
            "Precision: 0.8593542680229985\n",
            "Recall: 0.8571428571428571\n",
            "F1-Score: 0.8555270292105783\n",
            "Confusion Matrix:\n",
            "[[30  9]\n",
            " [ 4 48]]\n",
            "\n",
            "---\n",
            "Z-Score Scaling - Decision Tree:\n",
            "Accuracy: 0.8571428571428571\n",
            "Precision: 0.8600583090379008\n",
            "Recall: 0.8571428571428571\n",
            "F1-Score: 0.8576667190528577\n",
            "Confusion Matrix:\n",
            "[[34  5]\n",
            " [ 8 44]]\n",
            "\n",
            "Z-Score Scaling - Random Forest:\n",
            "Accuracy: 0.967032967032967\n",
            "Precision: 0.9671584621932189\n",
            "Recall: 0.967032967032967\n",
            "F1-Score: 0.9669758812615955\n",
            "Confusion Matrix:\n",
            "[[37  2]\n",
            " [ 1 51]]\n",
            "\n",
            "Z-Score Scaling - Naive Bayes:\n",
            "Accuracy: 0.8241758241758241\n",
            "Precision: 0.8236808236808237\n",
            "Recall: 0.8241758241758241\n",
            "F1-Score: 0.8235210668179884\n",
            "Confusion Matrix:\n",
            "[[30  9]\n",
            " [ 7 45]]\n",
            "\n",
            "Z-Score Scaling - KNN (k = 5):\n",
            "Accuracy: 0.8681318681318682\n",
            "Precision: 0.868010868010868\n",
            "Recall: 0.8681318681318682\n",
            "F1-Score: 0.8676408001134913\n",
            "Confusion Matrix:\n",
            "[[32  7]\n",
            " [ 5 47]]\n",
            "\n",
            "Z-Score Scaling - KNN(k = 3):\n",
            "Accuracy: 0.8351648351648352\n",
            "Precision: 0.835064935064935\n",
            "Recall: 0.8351648351648352\n",
            "F1-Score: 0.8341789052069425\n",
            "Confusion Matrix:\n",
            "[[30  9]\n",
            " [ 6 46]]\n",
            "\n",
            "Z-Score Scaling - KNN(k = 7):\n",
            "Accuracy: 0.8681318681318682\n",
            "Precision: 0.868010868010868\n",
            "Recall: 0.8681318681318682\n",
            "F1-Score: 0.8676408001134913\n",
            "Confusion Matrix:\n",
            "[[32  7]\n",
            " [ 5 47]]\n",
            "\n",
            "---\n",
            "Decimal Scaling - Decision Tree:\n",
            "Accuracy: 0.8461538461538461\n",
            "Precision: 0.845845845845846\n",
            "Recall: 0.8461538461538461\n",
            "F1-Score: 0.8455809334657398\n",
            "Confusion Matrix:\n",
            "[[31  8]\n",
            " [ 6 46]]\n",
            "\n",
            "Decimal Scaling - Random Forest:\n",
            "Accuracy: 0.9560439560439561\n",
            "Precision: 0.9566709566709566\n",
            "Recall: 0.9560439560439561\n",
            "F1-Score: 0.9558802667044971\n",
            "Confusion Matrix:\n",
            "[[36  3]\n",
            " [ 1 51]]\n",
            "\n",
            "Decimal Scaling - Naive Bayes:\n",
            "Accuracy: 0.8241758241758241\n",
            "Precision: 0.8236808236808237\n",
            "Recall: 0.8241758241758241\n",
            "F1-Score: 0.8235210668179884\n",
            "Confusion Matrix:\n",
            "[[30  9]\n",
            " [ 7 45]]\n",
            "\n",
            "Decimal Scaling - KNN (k = 5):\n",
            "Accuracy: 0.8681318681318682\n",
            "Precision: 0.8681318681318682\n",
            "Recall: 0.8681318681318682\n",
            "F1-Score: 0.8681318681318682\n",
            "Confusion Matrix:\n",
            "[[33  6]\n",
            " [ 6 46]]\n",
            "\n",
            "Decimal Scaling - KNN(k = 3):\n",
            "Accuracy: 0.8241758241758241\n",
            "Precision: 0.8241758241758241\n",
            "Recall: 0.8241758241758241\n",
            "F1-Score: 0.8241758241758241\n",
            "Confusion Matrix:\n",
            "[[31  8]\n",
            " [ 8 44]]\n",
            "\n",
            "Decimal Scaling - KNN(k = 7):\n",
            "Accuracy: 0.8571428571428571\n",
            "Precision: 0.8577731092436975\n",
            "Recall: 0.8571428571428571\n",
            "F1-Score: 0.8573535349988588\n",
            "Confusion Matrix:\n",
            "[[33  6]\n",
            " [ 7 45]]\n",
            "\n",
            "---\n",
            "Unit Vector Normalization - Decision Tree:\n",
            "Accuracy: 0.8571428571428571\n",
            "Precision: 0.8568591289544616\n",
            "Recall: 0.8571428571428571\n",
            "F1-Score: 0.8568954854669142\n",
            "Confusion Matrix:\n",
            "[[32  7]\n",
            " [ 6 46]]\n",
            "\n",
            "Unit Vector Normalization - Random Forest:\n",
            "Accuracy: 0.978021978021978\n",
            "Precision: 0.9788359788359788\n",
            "Recall: 0.978021978021978\n",
            "F1-Score: 0.9779401333522485\n",
            "Confusion Matrix:\n",
            "[[37  2]\n",
            " [ 0 52]]\n",
            "\n",
            "Unit Vector Normalization - Naive Bayes:\n",
            "Accuracy: 0.7362637362637363\n",
            "Precision: 0.7502072395689418\n",
            "Recall: 0.7362637362637363\n",
            "F1-Score: 0.7375415282392027\n",
            "Confusion Matrix:\n",
            "[[31  8]\n",
            " [16 36]]\n",
            "\n",
            "Unit Vector Normalization - KNN (k = 5):\n",
            "Accuracy: 0.6703296703296703\n",
            "Precision: 0.6795031055900621\n",
            "Recall: 0.6703296703296703\n",
            "F1-Score: 0.6720116618075801\n",
            "Confusion Matrix:\n",
            "[[27 12]\n",
            " [18 34]]\n",
            "\n",
            "Unit Vector Normalization - KNN(k = 3):\n",
            "Accuracy: 0.7142857142857143\n",
            "Precision: 0.7233954451345757\n",
            "Recall: 0.7142857142857143\n",
            "F1-Score: 0.7157434402332361\n",
            "Confusion Matrix:\n",
            "[[29 10]\n",
            " [16 36]]\n",
            "\n",
            "Unit Vector Normalization - KNN(k = 7):\n",
            "Accuracy: 0.6593406593406593\n",
            "Precision: 0.663265306122449\n",
            "Recall: 0.6593406593406593\n",
            "F1-Score: 0.6605898685106607\n",
            "Confusion Matrix:\n",
            "[[25 14]\n",
            " [17 35]]\n",
            "\n",
            "---\n"
          ]
        }
      ],
      "source": [
        "for technique_name, scaler in normalization_techniques:\n",
        "  # Apply the normalization technique\n",
        "    if technique_name == \"Decimal Scaling\":\n",
        "        normalized_data = scaler(X)\n",
        "\n",
        "    elif technique_name == \"Bin boundaries\":\n",
        "      continue\n",
        "\n",
        "    else:\n",
        "        normalized_data = applyNormalization(X, scaler)\n",
        "\n",
        "    # Split the normalized data into training and testing sets\n",
        "    X_train_normalized, X_test_normalized, y_train_normalized, y_test_normalized = train_test_split(normalized_data, y, test_size=0.2, random_state=42)\n",
        "    \n",
        "    print(f\"{technique_name} - Decision Tree:\")\n",
        "    decision_tree = DecisionTreeClassifier()\n",
        "    trainAndEvaluateClassifier(decision_tree, X_train_normalized, y_train_normalized, X_test_normalized, y_test_normalized)\n",
        "    \n",
        "    print(f\"{technique_name} - Random Forest:\")\n",
        "    rf = RandomForestClassifier()\n",
        "    trainAndEvaluateClassifier(rf, X_train_normalized, y_train_normalized, X_test_normalized, y_test_normalized)\n",
        "\n",
        "    print(f\"{technique_name} - Naive Bayes:\")\n",
        "    train_and_evaluate_naive_bayes(X_train_normalized, y_train_normalized, X_test_normalized, y_test_normalized)\n",
        "\n",
        "    print(f\"{technique_name} - KNN (k = 5):\")\n",
        "    knn = KNeighborsClassifier()\n",
        "    trainAndEvaluateClassifier(knn, X_train_normalized, y_train_normalized, X_test_normalized, y_test_normalized)\n",
        "\n",
        "    print(f\"{technique_name} - KNN(k = 3):\")\n",
        "    knn = KNeighborsClassifier(n_neighbors = 3)\n",
        "    trainAndEvaluateClassifier(knn, X_train_normalized, y_train_normalized, X_test_normalized, y_test_normalized)\n",
        "    \n",
        "    print(f\"{technique_name} - KNN(k = 7):\")\n",
        "    knn = KNeighborsClassifier(n_neighbors = 7)\n",
        "    trainAndEvaluateClassifier(knn, X_train_normalized, y_train_normalized, X_test_normalized, y_test_normalized)\n",
        "\n",
        "    print(\"---\") \n"
      ]
    },
    {
      "attachments": {},
      "cell_type": "markdown",
      "metadata": {
        "id": "66azpqR8aqwo"
      },
      "source": [
        "function randomly selects a subset of columns from the input data and applies a randomly chosen normalization technique to each selected column.\n",
        "\n",
        "The function iterates through the selected columns, randomly selects a normalization technique, and applies it to the corresponding column."
      ]
    },
    {
      "cell_type": "code",
      "execution_count": 260,
      "metadata": {
        "id": "IdXkMMShhzBe"
      },
      "outputs": [],
      "source": [
        "def randomNormalization(data):\n",
        "    normalized_data = data.copy()\n",
        "    columns = normalized_data.columns.tolist()\n",
        "    \n",
        "    # Randomly select columns to normalize\n",
        "    num_columns_to_normalize = random.randint(1, len(columns) - 1)  # Choose a random number of columns to normalize\n",
        "    \n",
        "    if num_columns_to_normalize > 0:\n",
        "        columns_to_normalize = random.sample(columns, num_columns_to_normalize)\n",
        "        \n",
        "        for column in columns_to_normalize:\n",
        "\n",
        "            # Randomly select a normalization technique for each column\n",
        "            normalization_techniques = [\n",
        "                (\"Min-Max Scaling\", MinMaxScaler()),\n",
        "                (\"Z-Score Scaling\", StandardScaler()),\n",
        "                (\"Decimal Scaling\", applyDecimalScaling),\n",
        "                (\"Unit Vector Normalization\", Normalizer()),\n",
        "                (\"Bin Boundaries\", applyBinBoundaries),\n",
        "                (\"Bin Means depth\", applyBinMeans_depth),\n",
        "                (\"Bin Boundaries\",applyBinBoundaries)\n",
        "            ] \n",
        "            \n",
        "            technique_name, scaler = random.choice(normalization_techniques)\n",
        "            \n",
        "            # Apply the selected normalization technique\n",
        "            if technique_name == \"Decimal Scaling\":\n",
        "                max_value = normalized_data[column].max()\n",
        "                num_digits = len(str(int(max_value)))\n",
        "                normalized_data[column] = normalized_data[column] / (10 ** num_digits)\n",
        "\n",
        "            elif technique_name == \"Unit Vector Normalization\":\n",
        "                normalized_data[column] = scaler.fit_transform(normalized_data[column].values.reshape(-1, 1))\n",
        "                normalized_data[column] = normalized_data[column]\n",
        "            elif technique_name == \"Bin Boundaries\" or technique_name == \"Bin Means depth\":\n",
        "                num_bins = random.randint(2, 10)  # Choose a random number of bins\n",
        "                normalized_data = scaler(normalized_data, column, num_bins)\n",
        "\n",
        "            else:\n",
        "                normalized_data[column] = scaler.fit_transform(normalized_data[column].values.reshape(-1, 1))\n",
        "            \n",
        "            print(f\"{technique_name} applied to column: {column}\")\n",
        "    \n",
        "    return normalized_data\n"
      ]
    },
    {
      "attachments": {},
      "cell_type": "markdown",
      "metadata": {
        "id": "2pI8XmhnZzj0"
      },
      "source": [
        "Train and evaluate classifiers for each normalization technique (Random columns with random normalization on each selected column)"
      ]
    },
    {
      "cell_type": "code",
      "execution_count": 261,
      "metadata": {
        "colab": {
          "base_uri": "https://localhost:8080/"
        },
        "id": "dPQe6Ue0aSzH",
        "outputId": "0b4d9a87-a62d-44b3-e8f4-8445bd3c8d4f"
      },
      "outputs": [
        {
          "name": "stdout",
          "output_type": "stream",
          "text": [
            "Unit Vector Normalization applied to column: Bedtime\n",
            "Min-Max Scaling applied to column: Caffeine consumption\n",
            "Z-Score Scaling applied to column: Awakenings\n",
            "Decision Tree:\n",
            "Accuracy: 0.8681318681318682\n",
            "Precision: 0.868010868010868\n",
            "Recall: 0.8681318681318682\n",
            "F1-Score: 0.8676408001134913\n",
            "Confusion Matrix:\n",
            "[[32  7]\n",
            " [ 5 47]]\n",
            "\n",
            "Random Forest:\n",
            "Accuracy: 0.945054945054945\n",
            "Precision: 0.9465367965367965\n",
            "Recall: 0.945054945054945\n",
            "F1-Score: 0.9447263017356474\n",
            "Confusion Matrix:\n",
            "[[35  4]\n",
            " [ 1 51]]\n",
            "\n",
            "Naive Bayes:\n",
            "Accuracy: 0.7692307692307693\n",
            "Precision: 0.7700980392156863\n",
            "Recall: 0.7692307692307693\n",
            "F1-Score: 0.7695710949981565\n",
            "Confusion Matrix:\n",
            "[[29 10]\n",
            " [11 41]]\n",
            "\n",
            "KNN (k = 5):\n",
            "Accuracy: 0.6153846153846154\n",
            "Precision: 0.6410256410256411\n",
            "Recall: 0.6153846153846154\n",
            "F1-Score: 0.6153846153846153\n",
            "Confusion Matrix:\n",
            "[[28 11]\n",
            " [24 28]]\n",
            "\n",
            "KNN (k = 3):\n",
            "Accuracy: 0.6813186813186813\n",
            "Precision: 0.7172887172887173\n",
            "Recall: 0.6813186813186813\n",
            "F1-Score: 0.6801636203593434\n",
            "Confusion Matrix:\n",
            "[[32  7]\n",
            " [22 30]]\n",
            "\n",
            "KNN (k = 7):\n",
            "Accuracy: 0.6153846153846154\n",
            "Precision: 0.6410256410256411\n",
            "Recall: 0.6153846153846154\n",
            "F1-Score: 0.6153846153846153\n",
            "Confusion Matrix:\n",
            "[[28 11]\n",
            " [24 28]]\n",
            "\n",
            "---\n",
            "Decimal Scaling applied to column: cluster\n",
            "Unit Vector Normalization applied to column: Exercise frequency\n",
            "Bin Boundaries applied to column: REM sleep percentage\n",
            "Unit Vector Normalization applied to column: Caffeine consumption\n",
            "Z-Score Scaling applied to column: Deep sleep percentage\n",
            "Bin Means depth applied to column: Sleep duration\n",
            "Bin Boundaries applied to column: Alcohol consumption\n",
            "Bin Boundaries applied to column: Awakenings\n",
            "Min-Max Scaling applied to column: Sleep efficiency\n",
            "Decimal Scaling applied to column: Smoking status\n",
            "Decision Tree:\n",
            "Accuracy: 0.8681318681318682\n",
            "Precision: 0.8681318681318682\n",
            "Recall: 0.8681318681318682\n",
            "F1-Score: 0.8681318681318682\n",
            "Confusion Matrix:\n",
            "[[33  6]\n",
            " [ 6 46]]\n",
            "\n",
            "Random Forest:\n",
            "Accuracy: 0.9340659340659341\n",
            "Precision: 0.9340659340659341\n",
            "Recall: 0.9340659340659341\n",
            "F1-Score: 0.9340659340659341\n",
            "Confusion Matrix:\n",
            "[[36  3]\n",
            " [ 3 49]]\n",
            "\n",
            "Naive Bayes:\n",
            "Accuracy: 0.6483516483516484\n",
            "Precision: 0.6666666666666666\n",
            "Recall: 0.6483516483516484\n",
            "F1-Score: 0.649626968775905\n",
            "Confusion Matrix:\n",
            "[[28 11]\n",
            " [21 31]]\n",
            "\n",
            "KNN (k = 5):\n",
            "Accuracy: 0.6593406593406593\n",
            "Precision: 0.6806271777003484\n",
            "Recall: 0.6593406593406593\n",
            "F1-Score: 0.6602461209202782\n",
            "Confusion Matrix:\n",
            "[[29 10]\n",
            " [21 31]]\n",
            "\n",
            "KNN (k = 3):\n",
            "Accuracy: 0.6703296703296703\n",
            "Precision: 0.6795031055900621\n",
            "Recall: 0.6703296703296703\n",
            "F1-Score: 0.6720116618075801\n",
            "Confusion Matrix:\n",
            "[[27 12]\n",
            " [18 34]]\n",
            "\n",
            "KNN (k = 7):\n",
            "Accuracy: 0.6593406593406593\n",
            "Precision: 0.6806271777003484\n",
            "Recall: 0.6593406593406593\n",
            "F1-Score: 0.6602461209202782\n",
            "Confusion Matrix:\n",
            "[[29 10]\n",
            " [21 31]]\n",
            "\n",
            "---\n",
            "Bin Means depth applied to column: Deep sleep percentage\n",
            "Decimal Scaling applied to column: Light sleep percentage\n",
            "Decision Tree:\n",
            "Accuracy: 0.8681318681318682\n",
            "Precision: 0.8681318681318682\n",
            "Recall: 0.8681318681318682\n",
            "F1-Score: 0.8681318681318682\n",
            "Confusion Matrix:\n",
            "[[33  6]\n",
            " [ 6 46]]\n",
            "\n",
            "Random Forest:\n",
            "Accuracy: 0.967032967032967\n",
            "Precision: 0.9671584621932189\n",
            "Recall: 0.967032967032967\n",
            "F1-Score: 0.9669758812615955\n",
            "Confusion Matrix:\n",
            "[[37  2]\n",
            " [ 1 51]]\n",
            "\n",
            "Naive Bayes:\n",
            "Accuracy: 0.8021978021978022\n",
            "Precision: 0.8015158015158015\n",
            "Recall: 0.8021978021978022\n",
            "F1-Score: 0.8014612001702368\n",
            "Confusion Matrix:\n",
            "[[29 10]\n",
            " [ 8 44]]\n",
            "\n",
            "KNN (k = 5):\n",
            "Accuracy: 0.7362637362637363\n",
            "Precision: 0.7414174972314507\n",
            "Recall: 0.7362637362637363\n",
            "F1-Score: 0.7374216027874565\n",
            "Confusion Matrix:\n",
            "[[29 10]\n",
            " [14 38]]\n",
            "\n",
            "KNN (k = 3):\n",
            "Accuracy: 0.7472527472527473\n",
            "Precision: 0.7542138712351478\n",
            "Recall: 0.7472527472527473\n",
            "F1-Score: 0.7484831099288931\n",
            "Confusion Matrix:\n",
            "[[30  9]\n",
            " [14 38]]\n",
            "\n",
            "KNN (k = 7):\n",
            "Accuracy: 0.7362637362637363\n",
            "Precision: 0.7414174972314507\n",
            "Recall: 0.7362637362637363\n",
            "F1-Score: 0.7374216027874565\n",
            "Confusion Matrix:\n",
            "[[29 10]\n",
            " [14 38]]\n",
            "\n",
            "---\n",
            "Bin Boundaries applied to column: Awakenings\n",
            "Z-Score Scaling applied to column: Exercise frequency\n",
            "Bin Boundaries applied to column: Wakeup time\n",
            "Decimal Scaling applied to column: Age\n",
            "Unit Vector Normalization applied to column: Sleep efficiency\n",
            "Bin Boundaries applied to column: REM sleep percentage\n",
            "Decision Tree:\n",
            "Accuracy: 0.8351648351648352\n",
            "Precision: 0.8347992623067102\n",
            "Recall: 0.8351648351648352\n",
            "F1-Score: 0.8348794063079777\n",
            "Confusion Matrix:\n",
            "[[31  8]\n",
            " [ 7 45]]\n",
            "\n",
            "Random Forest:\n",
            "Accuracy: 0.9560439560439561\n",
            "Precision: 0.9566709566709566\n",
            "Recall: 0.9560439560439561\n",
            "F1-Score: 0.9558802667044971\n",
            "Confusion Matrix:\n",
            "[[36  3]\n",
            " [ 1 51]]\n",
            "\n",
            "Naive Bayes:\n",
            "Accuracy: 0.7912087912087912\n",
            "Precision: 0.7904761904761906\n",
            "Recall: 0.7912087912087912\n",
            "F1-Score: 0.7899599465954605\n",
            "Confusion Matrix:\n",
            "[[28 11]\n",
            " [ 8 44]]\n",
            "\n",
            "KNN (k = 5):\n",
            "Accuracy: 0.6263736263736264\n",
            "Precision: 0.6320598006644518\n",
            "Recall: 0.6263736263736264\n",
            "F1-Score: 0.6280139372822299\n",
            "Confusion Matrix:\n",
            "[[24 15]\n",
            " [19 33]]\n",
            "\n",
            "KNN (k = 3):\n",
            "Accuracy: 0.5714285714285714\n",
            "Precision: 0.5825396825396826\n",
            "Recall: 0.5714285714285714\n",
            "F1-Score: 0.5736117127263276\n",
            "Confusion Matrix:\n",
            "[[23 16]\n",
            " [23 29]]\n",
            "\n",
            "KNN (k = 7):\n",
            "Accuracy: 0.6263736263736264\n",
            "Precision: 0.6320598006644518\n",
            "Recall: 0.6263736263736264\n",
            "F1-Score: 0.6280139372822299\n",
            "Confusion Matrix:\n",
            "[[24 15]\n",
            " [19 33]]\n",
            "\n",
            "---\n"
          ]
        }
      ],
      "source": [
        "for _ in range(0,4):\n",
        "\n",
        "    normalized_data = randomNormalization(X)\n",
        "    \n",
        "    #normalized_data = applyNormalization(normalized_data, scaler)\n",
        "\n",
        "    # Split the normalized data into training and testing sets\n",
        "    X_train_normalized, X_test_normalized, y_train_normalized, y_test_normalized = train_test_split(\n",
        "        normalized_data, y, test_size=0.2, random_state=42)\n",
        "\n",
        "    print(\"Decision Tree:\")\n",
        "    decision_tree = DecisionTreeClassifier()\n",
        "    trainAndEvaluateClassifier(decision_tree, X_train_normalized, y_train_normalized, X_test_normalized, y_test_normalized)\n",
        "    \n",
        "    print(\"Random Forest:\")\n",
        "    rf = RandomForestClassifier()\n",
        "    trainAndEvaluateClassifier(rf, X_train_normalized, y_train_normalized, X_test_normalized, y_test_normalized)\n",
        "    \n",
        "    \n",
        "    print(\"Naive Bayes:\")\n",
        "    train_and_evaluate_naive_bayes(X_train_normalized, y_train_normalized, X_test_normalized, y_test_normalized)\n",
        "    print(\"KNN (k = 5):\")\n",
        "    knn = KNeighborsClassifier()\n",
        "    trainAndEvaluateClassifier(knn, X_train_normalized, y_train_normalized, X_test_normalized, y_test_normalized)\n",
        "\n",
        "    \n",
        "    print(\"KNN (k = 3):\")\n",
        "    knn = KNeighborsClassifier(n_neighbors=3)\n",
        "    trainAndEvaluateClassifier(knn, X_train_normalized, y_train_normalized, X_test_normalized, y_test_normalized)\n",
        "\n",
        "\n",
        "    print(\"KNN (k = 7):\")\n",
        "    knn = KNeighborsClassifier()\n",
        "    trainAndEvaluateClassifier(knn, X_train_normalized, y_train_normalized, X_test_normalized, y_test_normalized)\n",
        "\n",
        "    print(\"---\")\n",
        "\n",
        "\n"
      ]
    },
    {
      "attachments": {},
      "cell_type": "markdown",
      "metadata": {
        "id": "4tUHLRWH8yeN"
      },
      "source": [
        "The selected model, with the selected normals on part of the column.\n",
        "The function executes the final result with the best results!\n",
        "The function will download the data with the best preprocessing and also the best model.\n",
        "And at the end, graphs describing the results will be displayed on the screen"
      ]
    },
    {
      "cell_type": "code",
      "execution_count": 262,
      "metadata": {
        "colab": {
          "base_uri": "https://localhost:8080/",
          "height": 1000
        },
        "id": "TwiaoCxxSRY3",
        "outputId": "3c6627fb-7aed-4f14-b451-6c1d402b81dd"
      },
      "outputs": [
        {
          "name": "stdout",
          "output_type": "stream",
          "text": [
            "Accuracy: 0.978021978021978\n",
            "Precision: 0.9788359788359788\n",
            "Recall: 0.978021978021978\n",
            "F1-Score: 0.9779401333522485\n",
            "Confusion Matrix:\n",
            "[[37  2]\n",
            " [ 0 52]]\n",
            "\n"
          ]
        },
        {
          "data": {
            "image/png": "[encoded data removed]",
            "text/plain": [
              "<Figure size 640x480 with 1 Axes>"
            ]
          },
          "metadata": {},
          "output_type": "display_data"
        },
        {
          "data": {
            "image/png": "[encoded data removed]",
            "text/plain": [
              "<Figure size 640x480 with 2 Axes>"
            ]
          },
          "metadata": {},
          "output_type": "display_data"
        },
        {
          "data": {
            "application/javascript": "\n    async function download(id, filename, size) {\n      if (!google.colab.kernel.accessAllowed) {\n        return;\n      }\n      const div = document.createElement('div');\n      const label = document.createElement('label');\n      label.textContent = `Downloading \"${filename}\": `;\n      div.appendChild(label);\n      const progress = document.createElement('progress');\n      progress.max = size;\n      div.appendChild(progress);\n      document.body.appendChild(div);\n\n      const buffers = [];\n      let downloaded = 0;\n\n      const channel = await google.colab.kernel.comms.open(id);\n      // Send a message to notify the kernel that we're ready.\n      channel.send({})\n\n      for await (const message of channel.messages) {\n        // Send a message to notify the kernel that we're ready.\n        channel.send({})\n        if (message.buffers) {\n          for (const buffer of message.buffers) {\n            buffers.push(buffer);\n            downloaded += buffer.byteLength;\n            progress.value = downloaded;\n          }\n        }\n      }\n      const blob = new Blob(buffers, {type: 'application/binary'});\n      const a = document.createElement('a');\n      a.href = window.URL.createObjectURL(blob);\n      a.download = filename;\n      div.appendChild(a);\n      a.click();\n      div.remove();\n    }\n  ",
            "text/plain": [
              "<IPython.core.display.Javascript object>"
            ]
          },
          "metadata": {},
          "output_type": "display_data"
        },
        {
          "data": {
            "application/javascript": "download(\"download_4885184a-2efc-4831-bc57-ef51cd05079a\", \"Sleep efficiency_clean.csv\", 33512)",
            "text/plain": [
              "<IPython.core.display.Javascript object>"
            ]
          },
          "metadata": {},
          "output_type": "display_data"
        }
      ],
      "source": [
        "#Applies data preprocessing techniques and trains a Random Forest classifier to improve the model's performance. \n",
        "\n",
        "def ModelImprovement(sleepData):\n",
        "\n",
        "  scaler=MinMaxScaler()\n",
        "  # Apply MinMax scaling to 'Exercise frequency' column\n",
        "  sleepData['Exercise frequency']=scaler.fit_transform(sleepData['Exercise frequency'].values.reshape(-1, 1))\n",
        "\n",
        "  # Apply binning boundaries to 'Light sleep percentage' column\n",
        "  sleepData=applyBinBoundaries(sleepData,'Light sleep percentage', 4)\n",
        "\n",
        "  scaler=StandardScaler()\n",
        "  # Apply Standard scaling to 'Alcohol consumption' column\n",
        "  sleepData['Alcohol consumption']=scaler.fit_transform(sleepData['Alcohol consumption'].values.reshape(-1, 1))\n",
        "\n",
        "  # Apply binning boundaries to 'Deep sleep percentage' column\n",
        "  sleepData=applyBinBoundaries(sleepData, 'Deep sleep percentage', 4)\n",
        "\n",
        "  # Apply binning boundaries to 'Smoking status' column\n",
        "  sleepData=applyBinBoundaries(sleepData,'Smoking status', 4)\n",
        "\n",
        "  # Apply binning boundaries to 'Wakeup time' column\n",
        "  sleepData=applyBinBoundaries(sleepData, 'Wakeup time', 4)\n",
        "\n",
        "  # Initialize a Random Forest classifier\n",
        "  rf = RandomForestClassifier()\n",
        "\n",
        "  # Split the data into training and testing sets\n",
        "  X_train_normalized, X_test_normalized, y_train_normalized, y_test_normalized = train_test_split(\n",
        "        sleepData, y, test_size=0.2, random_state=42)\n",
        "  \n",
        "  # Train and evaluate the classifier\n",
        "  rf = trainAndEvaluateClassifier(rf, X_train_normalized, y_train_normalized, X_test_normalized, y_test_normalized) \n",
        "  \n",
        "  # Generate the summarizing graphs\n",
        "  predictions = rf.predict(X_test_normalized)\n",
        "  class_counts = dict(zip(*np.unique(predictions, return_counts=True)))\n",
        "\n",
        "  # Visualize the predicted class distribution using a bar chart\n",
        "  plt.bar(class_counts.keys(), class_counts.values())\n",
        "  plt.xlabel('Gender')\n",
        "  plt.ylabel('Count')\n",
        "  plt.title('Predicted Class Distribution')\n",
        "  plt.show()\n",
        "\n",
        "  # Calculate and visualize the confusion matrix\n",
        "  conf_matrix = confusion_matrix(y_test_normalized, predictions)\n",
        "  sns.heatmap(conf_matrix, annot=True, fmt=\"d\", cmap=\"Blues\")\n",
        "  plt.xlabel(\"Predicted Class\")\n",
        "  plt.ylabel(\"True Class\")\n",
        "  plt.title(\"Confusion Matrix\")\n",
        "  plt.show()\n",
        "\n",
        "  #Downloading the model and the good preprocessing \n",
        "  dump(rf, 'bestModel.pkl')\n",
        "  normalized_data.to_csv('Sleep efficiency_clean.csv', index=False, encoding='utf-8-sig')\n",
        "  files.download('Sleep efficiency_clean.csv')\n",
        "\n",
        "dataImprovment=X.copy()\n",
        "#function call\n",
        "ModelImprovement(dataImprovment)"
      ]
    }
  ],
  "metadata": {
    "colab": {
      "provenance": []
    },
    "kernelspec": {
      "display_name": "Python 3",
      "name": "python3"
    },
    "language_info": {
      "name": "python"
    }
  },
  "nbformat": 4,
  "nbformat_minor": 0
}
